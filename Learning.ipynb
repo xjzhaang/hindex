{
 "cells": [
  {
   "cell_type": "code",
   "execution_count": 1,
   "metadata": {},
   "outputs": [],
   "source": [
    "import tqdm.notebook as tq\n",
    "from tqdm import tqdm\n",
    "\n",
    "import pandas as pd\n",
    "import numpy as np\n",
    "\n",
    "from sklearn.model_selection import train_test_split\n",
    "from sklearn.metrics import mean_squared_error\n",
    "\n",
    "from sklearn.ensemble import AdaBoostRegressor\n",
    "from sklearn.linear_model import SGDRegressor,LinearRegression, Lasso\n",
    "from sklearn.feature_selection import f_regression,chi2,SelectKBest\n",
    "from sklearn.neighbors import KNeighborsRegressor\n",
    "from sklearn.naive_bayes import GaussianNB\n",
    "from sklearn import tree\n",
    "from sklearn.ensemble import RandomForestRegressor\n",
    "\n",
    "from sklearn.decomposition import PCA\n",
    "from sklearn.preprocessing import StandardScaler\n",
    "\n",
    "from lightgbm import LGBMRegressor\n",
    "import torch\n",
    "from torch import nn\n",
    "import matplotlib.pyplot as plt\n",
    "import xgboost as xg"
   ]
  },
  {
   "cell_type": "markdown",
   "metadata": {},
   "source": [
    "# Load the dataset"
   ]
  },
  {
   "cell_type": "code",
   "execution_count": 3,
   "metadata": {},
   "outputs": [],
   "source": [
    "df_train = pd.read_csv('train.csv', dtype={'author': np.int64, 'hindex': np.float32})\n",
    "df_test = pd.read_csv('test.csv', dtype={'author': np.int64})\n",
    "x_train_complete = pd.read_csv('X_train.csv')\n",
    "y_train_complete = pd.read_csv('y_train.csv')\n",
    "x_test_complete = pd.read_csv('X_test.csv')\n",
    "\n",
    "x_train,x_val,y_train,y_val = train_test_split(x_train_complete,y_train_complete)\n",
    "x_train = x_train.to_numpy()\n",
    "x_val = x_val.to_numpy()\n",
    "y_train = y_train.to_numpy().ravel()\n",
    "y_val = y_val.to_numpy().ravel()\n",
    "x_train = np.nan_to_num(x_train)\n",
    "x_val = np.nan_to_num(x_val)"
   ]
  },
  {
   "cell_type": "code",
   "execution_count": 4,
   "metadata": {},
   "outputs": [],
   "source": [
    "scaler = StandardScaler()\n",
    "x_train = scaler.fit_transform(x_train)\n",
    "x_val = scaler.fit_transform(x_val)"
   ]
  },
  {
   "cell_type": "markdown",
   "metadata": {},
   "source": [
    "### Tools"
   ]
  },
  {
   "cell_type": "code",
   "execution_count": 5,
   "metadata": {},
   "outputs": [],
   "source": [
    "def fit_test(reg,x_train,y_train,x_test,y_test):\n",
    "    print(\"Fitting\")\n",
    "    reg.fit(x_train, y_train)\n",
    "    y_pred = reg.predict(x_test) \n",
    "    y_pred[y_pred < 0] = 1 #minimum h index is 1\n",
    "    mse = mean_squared_error(y_test, y_pred)\n",
    "    print(f\"Loss: {mse}\")\n",
    "    \n",
    "def save_to_submit(reg,x_test,filename='submission.csv'):\n",
    "    y_pred = reg.predict(x_test)\n",
    "    y_pred[y_pred < 1] = 1\n",
    "    # write the predictions to file\n",
    "    df_test['hindex'] = pd.Series(np.round_(y_pred, decimals=3))\n",
    "    df_test.loc[:,[\"author\",\"hindex\"]].to_csv(filename, index=False)\n",
    "    \n",
    "def reduction(k,x_train,y_train,x_test,method):\n",
    "    methods = [\"pca\",\"chi2\",\"f_regression\"]\n",
    "    if method == \"pca\":\n",
    "        transformation = PCA(n_components=k)\n",
    "        transformation.fit(x_train)\n",
    "    elif method == \"chi2\":\n",
    "        transformation = SelectKBest(chi2, k=k)\n",
    "        transformation.fit(x_train,y_train)\n",
    "    elif method == \"f_regression\":\n",
    "        transformation = SelectKBest(f_regression, k=k)\n",
    "        transformation.fit(x_train,y_train)\n",
    "    else:\n",
    "        print(\"Please choose a reduction method among:\"+\" \".join(methods))\n",
    "        return None,None\n",
    "    return transformation.transform(x_train),transformation.transform(x_test)"
   ]
  },
  {
   "cell_type": "markdown",
   "metadata": {},
   "source": [
    "# Comparing different methods"
   ]
  },
  {
   "cell_type": "markdown",
   "metadata": {},
   "source": [
    "### Sklearn regressors"
   ]
  },
  {
   "cell_type": "markdown",
   "metadata": {},
   "source": [
    "#### Linear regressor"
   ]
  },
  {
   "cell_type": "code",
   "execution_count": 6,
   "metadata": {},
   "outputs": [
    {
     "name": "stdout",
     "output_type": "stream",
     "text": [
      "Fitting\n",
      "Loss: 61.65964020840836\n"
     ]
    }
   ],
   "source": [
    "linearreg = LinearRegression()\n",
    "fit_test(linearreg,x_train,y_train,x_val,y_val)"
   ]
  },
  {
   "cell_type": "code",
   "execution_count": 7,
   "metadata": {},
   "outputs": [
    {
     "name": "stdout",
     "output_type": "stream",
     "text": [
      "Fitting\n",
      "Loss: 77.71858134590435\n"
     ]
    }
   ],
   "source": [
    "lassoreg = Lasso(max_iter = 2000)\n",
    "fit_test(lassoreg,x_train,y_train,x_val,y_val)"
   ]
  },
  {
   "cell_type": "markdown",
   "metadata": {},
   "source": [
    "#### KNN regressor"
   ]
  },
  {
   "cell_type": "code",
   "execution_count": 8,
   "metadata": {},
   "outputs": [
    {
     "name": "stderr",
     "output_type": "stream",
     "text": [
      "100%|███████████████████████████████████████████████████████████████████████████████████| 6/6 [33:01<00:00, 330.30s/it]\n"
     ]
    }
   ],
   "source": [
    "K = np.arange(12,18)\n",
    "MSE = np.zeros(len(K))\n",
    "\n",
    "#We try for various k\n",
    "for i in tqdm(range(len(K))):\n",
    "    k = K[i]\n",
    "    knnreg = KNeighborsRegressor(n_neighbors=k)\n",
    "    knnreg.fit(x_train, y_train)\n",
    "    y_pred = knnreg.predict(x_val) \n",
    "    y_pred[y_pred < 0] = 1 #minimum h index is 1\n",
    "    mse = mean_squared_error(y_val, y_pred)\n",
    "    MSE[i] = mse"
   ]
  },
  {
   "cell_type": "code",
   "execution_count": 10,
   "metadata": {},
   "outputs": [
    {
     "data": {
      "image/png": "[encoded data removed]",
      "text/plain": [
       "<Figure size 432x288 with 1 Axes>"
      ]
     },
     "metadata": {
      "needs_background": "light"
     },
     "output_type": "display_data"
    }
   ],
   "source": [
    "plt.title(\"Evolution of the loss\")\n",
    "plt.plot(K, MSE, label = 'MSE')\n",
    "plt.legend(loc = 'best')\n",
    "plt.show()"
   ]
  },
  {
   "cell_type": "markdown",
   "metadata": {},
   "source": [
    "#### Naive Bayes"
   ]
  },
  {
   "cell_type": "code",
   "execution_count": 8,
   "metadata": {},
   "outputs": [
    {
     "name": "stdout",
     "output_type": "stream",
     "text": [
      "Fitting\n",
      "Loss: 181.66515920203852\n"
     ]
    }
   ],
   "source": [
    "nbreg = GaussianNB()\n",
    "fit_test(nbreg,x_train,y_train,x_val,y_val)"
   ]
  },
  {
   "cell_type": "markdown",
   "metadata": {},
   "source": [
    "#### Decision Tree"
   ]
  },
  {
   "cell_type": "code",
   "execution_count": 9,
   "metadata": {},
   "outputs": [
    {
     "name": "stdout",
     "output_type": "stream",
     "text": [
      "Fitting\n",
      "Loss: 122.34739790179289\n"
     ]
    }
   ],
   "source": [
    "dtreg = tree.DecisionTreeRegressor()\n",
    "fit_test(dtreg,x_train,y_train,x_val,y_val)"
   ]
  },
  {
   "cell_type": "code",
   "execution_count": 22,
   "metadata": {},
   "outputs": [
    {
     "name": "stdout",
     "output_type": "stream",
     "text": [
      "Fitting\n",
      "Loss: 60.79605013659006\n"
     ]
    }
   ],
   "source": [
    "rdreg = RandomForestRegressor(n_estimators = 10)\n",
    "fit_test(rdreg,x_train,y_train,x_val,y_val)"
   ]
  },
  {
   "cell_type": "markdown",
   "metadata": {},
   "source": [
    "#### Gradient Boosting"
   ]
  },
  {
   "cell_type": "code",
   "execution_count": 23,
   "metadata": {},
   "outputs": [
    {
     "name": "stdout",
     "output_type": "stream",
     "text": [
      "Fitting\n",
      "Loss: 49.15352643757912\n"
     ]
    }
   ],
   "source": [
    "lgbmreg = LGBMRegressor(objective='mse',\n",
    "                    boosting_type='dart',\n",
    "                    colsample_bytree=1,\n",
    "                    learning_rate=0.1,\n",
    "                    max_depth=10,\n",
    "                    n_estimators=1000,\n",
    "                    num_leaves=32,\n",
    "                    reg_alpha=0.5,\n",
    "                    reg_lambda=1,\n",
    "                    subsample=0.5,\n",
    "                    n_jobs=12)\n",
    "# x_train_red,x_val_red = reduction(32,x_train,y_train,x_val,\"pca\")\n",
    "fit_test(lgbmreg,x_train,y_train,x_val,y_val)"
   ]
  },
  {
   "cell_type": "code",
   "execution_count": null,
   "metadata": {
    "scrolled": true
   },
   "outputs": [
    {
     "name": "stdout",
     "output_type": "stream",
     "text": [
      "Fitting\n"
     ]
    }
   ],
   "source": [
    "adareg = AdaBoostRegressor(random_state=0, n_estimators=100)\n",
    "fit_test(adareg,x_train,y_train,x_val,y_val)"
   ]
  },
  {
   "cell_type": "code",
   "execution_count": null,
   "metadata": {
    "scrolled": true
   },
   "outputs": [],
   "source": [
    "sgdreg = SGDRegressor(max_iter=5000, tol=1e-3,shuffle=True)\n",
    "fit_test(adareg,x_train,y_train,x_val,y_val)"
   ]
  },
  {
   "cell_type": "markdown",
   "metadata": {},
   "source": [
    "### Neural Network"
   ]
  },
  {
   "cell_type": "code",
   "execution_count": 11,
   "metadata": {},
   "outputs": [],
   "source": [
    "X = torch.from_numpy(x_train).float()\n",
    "X_t = torch.from_numpy(x_val).float()\n",
    "y_tr = torch.from_numpy(y_train).float().reshape(-1,1)\n",
    "y_t = torch.from_numpy(y_val).float().reshape(-1,1)"
   ]
  },
  {
   "cell_type": "code",
   "execution_count": 13,
   "metadata": {},
   "outputs": [
    {
     "data": {
      "application/vnd.jupyter.widget-view+json": {
       "model_id": "66abf9da9383437d8e96554ad3cd650e",
       "version_major": 2,
       "version_minor": 0
      },
      "text/plain": [
       "  0%|          | 0/1000 [00:00<?, ?it/s]"
      ]
     },
     "metadata": {},
     "output_type": "display_data"
    },
    {
     "name": "stdout",
     "output_type": "stream",
     "text": [
      "epoch 0 ---------------------------\n",
      "test loss: 257.7081604003906\n",
      "train loss: 257.71771240234375\n",
      "epoch 100 ---------------------------\n",
      "test loss: 142.7319793701172\n",
      "train loss: 142.06304931640625\n",
      "epoch 200 ---------------------------\n",
      "test loss: 112.92045593261719\n",
      "train loss: 112.3491439819336\n",
      "epoch 300 ---------------------------\n",
      "test loss: 96.19949340820312\n",
      "train loss: 95.70307922363281\n",
      "epoch 400 ---------------------------\n",
      "test loss: 84.94175720214844\n",
      "train loss: 84.19196319580078\n",
      "epoch 500 ---------------------------\n",
      "test loss: 76.62013244628906\n",
      "train loss: 75.4260482788086\n",
      "epoch 600 ---------------------------\n",
      "test loss: 70.80780029296875\n",
      "train loss: 68.89713287353516\n",
      "epoch 700 ---------------------------\n",
      "test loss: 66.82489776611328\n",
      "train loss: 64.07988739013672\n",
      "epoch 800 ---------------------------\n",
      "test loss: 63.92000961303711\n",
      "train loss: 60.28025436401367\n",
      "epoch 900 ---------------------------\n",
      "test loss: 61.715087890625\n",
      "train loss: 57.127159118652344\n"
     ]
    }
   ],
   "source": [
    "# #Architecture\n",
    "# model = nn.Sequential(\n",
    "#           nn.Linear(x_train.shape[1],128,bias=True),\n",
    "#           nn.Dropout(p=0.5),\n",
    "#           nn.Tanh(),\n",
    "#           nn.Linear(128,64,bias=True),\n",
    "#           nn.Sigmoid(),\n",
    "#           nn.Linear(64,1,bias=True),\n",
    "#           nn.ReLU())\n",
    "\n",
    "# #Architecture\n",
    "# model = nn.Sequential(\n",
    "#           nn.Linear(x_train.shape[1],256,bias=True),\n",
    "#           nn.Tanh(),\n",
    "#           nn.Linear(256,64,bias=True),\n",
    "#           nn.Sigmoid(),\n",
    "#           nn.Linear(64,16,bias=True),\n",
    "#           nn.ReLU(),\n",
    "#           nn.Linear(16,1,bias=True),\n",
    "#           nn.ReLU())\n",
    "\n",
    "#Architecture\n",
    "#model = nn.Sequential(\n",
    "#         nn.Linear(x_train.shape[1],128,bias=True),\n",
    "#         nn.Tanh(),\n",
    "#         nn.Linear(128,64,bias=True),\n",
    "#         nn.Sigmoid(),\n",
    "#         nn.Linear(64,32,bias=True),\n",
    "#         nn.ReLU(),\n",
    "#         nn.Linear(32,1,bias=True),\n",
    "#         nn.ReLU())\n",
    "\n",
    "#Architecture\n",
    "model = nn.Sequential(\n",
    "          nn.Linear(x_train.shape[1],64,bias=True),\n",
    "          nn.Tanh(),\n",
    "          nn.Linear(64,1,bias=True),\n",
    "          nn.ReLU())\n",
    "\n",
    "loss_function = nn.MSELoss()\n",
    "# optimizer = torch.optim.Adam(model.parameters(),amsgrad=True)\n",
    "optimizer = torch.optim.Adam(model.parameters(), lr=1e-3, weight_decay=1e-5)\n",
    "\n",
    "#init performance measures\n",
    "tr_acc = []\n",
    "test_acc = []\n",
    "\n",
    "for epoch in tq.tqdm(range(1000)):\n",
    "    optimizer.zero_grad() #required since pytorch accumulates the gradients\n",
    "    output= model.forward(X)\n",
    "    loss = loss_function(output, y_tr)\n",
    "    \n",
    "    loss.backward() #backpropagation step\n",
    "    optimizer.step() #update the parameters\n",
    "    \n",
    "    #update loss and accuracy\n",
    "    if epoch%100==0:\n",
    "        print(\"epoch\",epoch,\"---------------------------\")\n",
    "        with torch.no_grad():\n",
    "            output_te=model.forward(X_t)\n",
    "            loss_test = loss_function(output_te, y_t)\n",
    "            tr_acc.append(loss.data.item())\n",
    "            test_acc.append(loss_test.data.item())\n",
    "            print(\"test loss:\",loss_test.data.item())\n",
    "            print(\"train loss:\",loss.data.item())"
   ]
  },
  {
   "cell_type": "code",
   "execution_count": 21,
   "metadata": {},
   "outputs": [
    {
     "name": "stdout",
     "output_type": "stream",
     "text": [
      "Loss :  tensor(54.4561, grad_fn=<MseLossBackward0>)\n"
     ]
    }
   ],
   "source": [
    "optimizer.zero_grad() #required since pytorch accumulates the gradients\n",
    "output= model.forward(X)\n",
    "loss = loss_function(output, y_tr)\n",
    "print(\"Loss : \", loss)"
   ]
  },
  {
   "cell_type": "code",
   "execution_count": 14,
   "metadata": {},
   "outputs": [
    {
     "data": {
      "image/png": "[encoded data removed]",
      "text/plain": [
       "<Figure size 432x288 with 1 Axes>"
      ]
     },
     "metadata": {
      "needs_background": "light"
     },
     "output_type": "display_data"
    }
   ],
   "source": [
    "plt.plot(test_acc, c='r', label='test')\n",
    "plt.plot(tr_acc, c='b', label='train')\n",
    "plt.title(\"Train and test loss\")\n",
    "plt.xlabel(\"Iterations\")\n",
    "plt.legend()\n",
    "plt.show()"
   ]
  }
 ],
 "metadata": {
  "kernelspec": {
   "display_name": "Python 3 (ipykernel)",
   "language": "python",
   "name": "python3"
  },
  "language_info": {
   "codemirror_mode": {
    "name": "ipython",
    "version": 3
   },
   "file_extension": ".py",
   "mimetype": "text/x-python",
   "name": "python",
   "nbconvert_exporter": "python",
   "pygments_lexer": "ipython3",
   "version": "3.9.7"
  }
 },
 "nbformat": 4,
 "nbformat_minor": 4
}
