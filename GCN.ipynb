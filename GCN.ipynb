{
 "cells": [
  {
   "cell_type": "code",
   "execution_count": 1,
   "metadata": {},
   "outputs": [],
   "source": [
    "import pandas as pd\n",
    "import numpy as np\n",
    "import networkx as nx\n",
    "import tqdm.notebook as tq\n",
    "from sklearn.model_selection import train_test_split\n",
    "from sklearn.metrics import mean_squared_error\n",
    "from sklearn import preprocessing\n",
    "\n",
    "from stellargraph import StellarGraph\n",
    "import stellargraph as sg\n",
    "from stellargraph.mapper import ClusterNodeGenerator\n",
    "from stellargraph.layer import GCN\n",
    "from stellargraph import globalvar\n",
    "\n",
    "import matplotlib.pyplot as plt\n",
    "\n",
    "import numpy as np\n",
    "import networkx as nx\n",
    "import scipy.sparse as sp\n",
    "from random import randint\n",
    "\n",
    "import time\n",
    "\n",
    "import torch\n",
    "import torch.nn as nn\n",
    "import torch.optim as optim\n",
    "import torch.nn.functional as F\n",
    "from torch_geometric.nn import GCNConv\n",
    "from torch_geometric.datasets import Planetoid\n",
    "\n",
    "from gensim.models import Word2Vec\n",
    "\n",
    "from sklearn.manifold import TSNE\n",
    "from sklearn.decomposition import PCA\n",
    "from sklearn.metrics import accuracy_score\n",
    "from sklearn.linear_model import LogisticRegression\n",
    "\n",
    "import seaborn as sns\n",
    "import matplotlib.pyplot as plt\n",
    "%matplotlib inline"
   ]
  },
  {
   "cell_type": "markdown",
   "metadata": {},
   "source": [
    "# Load Data"
   ]
  },
  {
   "cell_type": "code",
   "execution_count": 2,
   "metadata": {},
   "outputs": [],
   "source": [
    "df_train = pd.read_csv('train.csv', dtype={'author': np.int64, 'hindex': np.float32})\n",
    "df_test = pd.read_csv('test.csv', dtype={'author': np.int64})\n",
    "x_train_complete = pd.read_csv('X_train.csv')\n",
    "y_train_complete = pd.read_csv('y_train.csv')\n",
    "x_test_complete = pd.read_csv('X_test.csv')\n",
    "\n",
    "x_train,x_val,y_train,y_val = train_test_split(x_train_complete,y_train_complete)\n",
    "\n",
    "x_train = x_train.to_numpy()\n",
    "x_val = x_val.to_numpy()\n",
    "y_train = y_train.to_numpy().ravel()\n",
    "y_val = y_val.to_numpy().ravel()\n",
    "\n",
    "x_train = np.nan_to_num(x_train)\n",
    "x_val = np.nan_to_num(x_val)"
   ]
  },
  {
   "cell_type": "code",
   "execution_count": 5,
   "metadata": {},
   "outputs": [],
   "source": [
    "coAuthorshipGraph = nx.read_edgelist(\"coauthorship.edgelist\",delimiter=' ', nodetype=int)"
   ]
  },
  {
   "cell_type": "code",
   "execution_count": 6,
   "metadata": {},
   "outputs": [
    {
     "data": {
      "text/plain": [
       "<matplotlib.axes._subplots.AxesSubplot at 0x7fdd4cdbbbe0>"
      ]
     },
     "execution_count": 6,
     "metadata": {},
     "output_type": "execute_result"
    },
    {
     "data": {
      "image/png": "[encoded data removed]",
      "text/plain": [
       "<Figure size 432x288 with 1 Axes>"
      ]
     },
     "metadata": {
      "needs_background": "light"
     },
     "output_type": "display_data"
    }
   ],
   "source": [
    "np.random.seed(2604)\n",
    "n = len(coAuthorshipGraph.nodes())\n",
    "idx = np.random.permutation(n)\n",
    "idx_train = idx[:int(0.6*n)]\n",
    "idx_val = idx[int(0.6*n):int(0.8*n)]\n",
    "idx_test = idx[int(0.8*n):]\n",
    "#setting the classes\n",
    "df = pd.concat([df_train,df_test])\n",
    "conditions = [(df[\"hindex\"] == 1),\n",
    "              (df[\"hindex\"] > 1) & (df[\"hindex\"] <= 20),\n",
    "              (df[\"hindex\"] > 20)]\n",
    "val = [0, 1, 2]\n",
    "df[ \"hindex_label\"] = np.select(conditions, val)\n",
    "labels = pd.Series(data=df[\"hindex_label\"].to_numpy(), index = df[\"author\"].to_numpy())\n",
    "labels.value_counts().plot(kind='bar')"
   ]
  },
  {
   "cell_type": "code",
   "execution_count": 7,
   "metadata": {
    "scrolled": true
   },
   "outputs": [
    {
     "name": "stdout",
     "output_type": "stream",
     "text": [
      "[0.60046097 0.29588478 0.10365425]\n"
     ]
    }
   ],
   "source": [
    "a = labels.value_counts().to_numpy()\n",
    "#we can see here how unbalanced the dataset is\n",
    "print(a/np.sum(a))"
   ]
  },
  {
   "cell_type": "code",
   "execution_count": 12,
   "metadata": {},
   "outputs": [],
   "source": [
    "labels = torch.from_numpy(labels.to_numpy())"
   ]
  },
  {
   "cell_type": "code",
   "execution_count": 14,
   "metadata": {},
   "outputs": [],
   "source": [
    "idx_train_0 = []\n",
    "idx_train_1 = []\n",
    "idx_train_2 = []\n",
    "counting = {0:0,1:0,2:0}\n",
    "for i in idx_train:\n",
    "    lab = labels[i].item()\n",
    "    if lab == 0:\n",
    "        idx_train_0.append(i)\n",
    "    if lab == 1:\n",
    "        idx_train_1.append(i)\n",
    "    if lab == 2:\n",
    "        idx_train_2.append(i)\n",
    "number_2 = len(idx_train_2)\n",
    "idx_train_0 = idx_train_0[:number_2]\n",
    "idx_train_1 = idx_train_1[:number_2]\n",
    "new_idx_train = np.concatenate([idx_train_0,idx_train_1,idx_train_2])\n",
    "np.random.shuffle(new_idx_train)"
   ]
  },
  {
   "cell_type": "code",
   "execution_count": 15,
   "metadata": {},
   "outputs": [],
   "source": [
    "class_labels_train = labels[new_idx_train]\n",
    "class_labels_validation = labels[idx_val]\n",
    "class_labels_test = labels[idx_test]"
   ]
  },
  {
   "cell_type": "markdown",
   "metadata": {},
   "source": [
    "# GCN"
   ]
  },
  {
   "cell_type": "code",
   "execution_count": 16,
   "metadata": {
    "scrolled": true
   },
   "outputs": [],
   "source": [
    "def normalise_adjacency(A):\n",
    "    #Please insert your code for Task 4 here\n",
    "    n = A.shape[0]\n",
    "    A_with_self_loops = A + sp.identity(n)\n",
    "    \n",
    "    degrees = A.sum(axis=0) + 1\n",
    "    inv_degrees = np.power(degrees, -0.5)\n",
    "    D_inv = sp.diags(np.squeeze(np.asarray((inv_degrees))))\n",
    "    \n",
    "    A_normalised = D_inv @ A_with_self_loops @ D_inv \n",
    "\n",
    "    return A_normalised\n",
    "\n",
    "\n",
    "\n",
    "def sparse_to_torch_sparse(M):\n",
    "    \"\"\"Converts a sparse SciPy matrix to a sparse PyTorch tensor\"\"\"\n",
    "    M = M.tocoo().astype(np.float32)\n",
    "    indices = torch.from_numpy(np.vstack((M.row, M.col)).astype(np.int64))\n",
    "    values = torch.from_numpy(M.data)\n",
    "    shape = torch.Size(M.shape)\n",
    "    return torch.sparse.FloatTensor(indices, values, shape)\n",
    "\n",
    "\n",
    "class GCN(nn.Module):\n",
    "    \"\"\"Simple GCN model\"\"\"\n",
    "    def __init__(self, n_feat, n_hidden_1, n_hidden_2, n_class, dropout):\n",
    "        super(GCN, self).__init__()\n",
    "\n",
    "        self.fc1 = nn.Linear(n_feat, n_hidden_1)\n",
    "        self.fc2 = nn.Linear(n_hidden_1, n_hidden_2)\n",
    "        self.fc3 = nn.Linear(n_hidden_2, n_class)\n",
    "        self.dropout = nn.Dropout(dropout)\n",
    "        self.relu = nn.ReLU()\n",
    "\n",
    "    def forward(self, x_in, adj):\n",
    "        \n",
    "        #Please insert your code for Task 5 here\n",
    "        \n",
    "        x = self.fc1(x_in)\n",
    "        x = self.relu(torch.mm(adj, x))\n",
    "        x = self.dropout(x)\n",
    "\n",
    "        x = self.fc2(x)\n",
    "        t = self.relu(torch.mm(adj, x))\n",
    "        \n",
    "        x = self.fc3(t)\n",
    "\n",
    "        return F.log_softmax(x, dim=1), t"
   ]
  },
  {
   "cell_type": "code",
   "execution_count": 17,
   "metadata": {
    "scrolled": false
   },
   "outputs": [
    {
     "data": {
      "application/vnd.jupyter.widget-view+json": {
       "model_id": "db39200239924a259c9106eb70f16224",
       "version_major": 2,
       "version_minor": 0
      },
      "text/plain": [
       "HBox(children=(FloatProgress(value=1.0, bar_style='info', max=1.0), HTML(value='')))"
      ]
     },
     "metadata": {},
     "output_type": "display_data"
    },
    {
     "name": "stdout",
     "output_type": "stream",
     "text": [
      "\n"
     ]
    },
    {
     "data": {
      "application/vnd.jupyter.widget-view+json": {
       "model_id": "201ccfff2f674e5fbdbc50eb3ce805e1",
       "version_major": 2,
       "version_minor": 0
      },
      "text/plain": [
       "HBox(children=(FloatProgress(value=1.0, bar_style='info', max=1.0), HTML(value='')))"
      ]
     },
     "metadata": {},
     "output_type": "display_data"
    },
    {
     "name": "stdout",
     "output_type": "stream",
     "text": [
      "\n"
     ]
    }
   ],
   "source": [
    "node_to_id_train = {}\n",
    "node_to_id_test = {}\n",
    "for i, row in tq.tqdm(df_train.iterrows()):\n",
    "    node_to_id_train[int(row['author'])] = i\n",
    "    \n",
    "for i, row in tq.tqdm(df_test.iterrows()):\n",
    "    node_to_id_test[int(row['author'])] = i"
   ]
  },
  {
   "cell_type": "code",
   "execution_count": 18,
   "metadata": {
    "scrolled": true
   },
   "outputs": [
    {
     "data": {
      "application/vnd.jupyter.widget-view+json": {
       "model_id": "6dfcd597d6a048cebfd4ab0075ddf872",
       "version_major": 2,
       "version_minor": 0
      },
      "text/plain": [
       "HBox(children=(FloatProgress(value=0.0, max=217801.0), HTML(value='')))"
      ]
     },
     "metadata": {},
     "output_type": "display_data"
    },
    {
     "name": "stdout",
     "output_type": "stream",
     "text": [
      "\n"
     ]
    }
   ],
   "source": [
    "x_test_fill = x_test_complete.to_numpy()\n",
    "x_train_fill = x_train_complete.to_numpy()\n",
    "X = []\n",
    "for node in tq.tqdm(list(coAuthorshipGraph.nodes)):\n",
    "    if node in node_to_id_train:\n",
    "        X.append(x_train_fill[node_to_id_train[node]])\n",
    "    elif node in node_to_id_test:\n",
    "        X.append(x_test_fill[node_to_id_test[node]])\n",
    "        \n",
    "X = np.array(X)\n",
    "X = torch.from_numpy(X)\n",
    "X = X.float()"
   ]
  },
  {
   "cell_type": "code",
   "execution_count": 19,
   "metadata": {},
   "outputs": [
    {
     "name": "stdout",
     "output_type": "stream",
     "text": [
      "Epoch: 001 loss_train: 19.8464 acc_train: 0.2887 loss_val: 127.7433 acc_val: 0.1032 time: 7.5058s\n",
      "Epoch: 002 loss_train: 79.4149 acc_train: 0.3333 loss_val: 54.1696 acc_val: 0.6307 time: 6.2022s\n",
      "Epoch: 003 loss_train: 146.4910 acc_train: 0.3696 loss_val: 42.5776 acc_val: 0.6250 time: 5.9208s\n",
      "Epoch: 004 loss_train: 115.3664 acc_train: 0.4938 loss_val: 19.0940 acc_val: 0.3853 time: 6.1598s\n",
      "Epoch: 005 loss_train: 46.7675 acc_train: 0.3974 loss_val: 47.6758 acc_val: 0.3136 time: 5.9865s\n",
      "Epoch: 006 loss_train: 30.4696 acc_train: 0.4019 loss_val: 56.7218 acc_val: 0.2419 time: 5.7980s\n",
      "Epoch: 007 loss_train: 35.3357 acc_train: 0.3401 loss_val: 33.7986 acc_val: 0.4915 time: 5.9244s\n",
      "Epoch: 008 loss_train: 22.0545 acc_train: 0.3353 loss_val: 4.5276 acc_val: 0.5768 time: 5.7324s\n",
      "Epoch: 009 loss_train: 4.9204 acc_train: 0.3315 loss_val: 4.3536 acc_val: 0.5216 time: 5.9378s\n",
      "Epoch: 010 loss_train: 9.8692 acc_train: 0.3296 loss_val: 4.7310 acc_val: 0.2874 time: 6.0618s\n",
      "Epoch: 011 loss_train: 11.0130 acc_train: 0.3278 loss_val: 3.9746 acc_val: 0.2192 time: 5.9570s\n",
      "Epoch: 012 loss_train: 9.0214 acc_train: 0.3699 loss_val: 2.8476 acc_val: 0.3827 time: 5.6247s\n",
      "Epoch: 013 loss_train: 5.7694 acc_train: 0.4741 loss_val: 2.2755 acc_val: 0.3548 time: 5.5216s\n",
      "Epoch: 014 loss_train: 2.6893 acc_train: 0.4639 loss_val: 5.4304 acc_val: 0.3412 time: 5.8142s\n",
      "Epoch: 015 loss_train: 3.8740 acc_train: 0.4654 loss_val: 3.7504 acc_val: 0.3324 time: 5.7601s\n",
      "Epoch: 016 loss_train: 2.6332 acc_train: 0.4649 loss_val: 1.8738 acc_val: 0.3541 time: 5.6173s\n",
      "Epoch: 017 loss_train: 2.5842 acc_train: 0.4680 loss_val: 1.5929 acc_val: 0.5160 time: 5.6837s\n",
      "Epoch: 018 loss_train: 2.7764 acc_train: 0.5064 loss_val: 1.4592 acc_val: 0.4867 time: 5.7060s\n",
      "Epoch: 019 loss_train: 2.3789 acc_train: 0.5063 loss_val: 1.1941 acc_val: 0.4237 time: 5.8543s\n",
      "Epoch: 020 loss_train: 1.5221 acc_train: 0.5078 loss_val: 1.9124 acc_val: 0.3499 time: 5.7254s\n",
      "Epoch: 021 loss_train: 1.5390 acc_train: 0.5088 loss_val: 2.3087 acc_val: 0.3274 time: 5.8688s\n",
      "Epoch: 022 loss_train: 1.7711 acc_train: 0.5130 loss_val: 1.6422 acc_val: 0.3230 time: 7.1894s\n",
      "Epoch: 023 loss_train: 1.4147 acc_train: 0.5142 loss_val: 1.0707 acc_val: 0.3604 time: 6.3441s\n",
      "Epoch: 024 loss_train: 1.2640 acc_train: 0.5141 loss_val: 1.1143 acc_val: 0.3743 time: 5.9121s\n",
      "Epoch: 025 loss_train: 1.3976 acc_train: 0.5134 loss_val: 1.0609 acc_val: 0.3789 time: 5.5478s\n",
      "Epoch: 026 loss_train: 1.2949 acc_train: 0.5127 loss_val: 1.0057 acc_val: 0.3496 time: 6.2163s\n",
      "Epoch: 027 loss_train: 1.0750 acc_train: 0.5109 loss_val: 1.4344 acc_val: 0.3134 time: 5.9395s\n",
      "Epoch: 028 loss_train: 1.2873 acc_train: 0.5087 loss_val: 1.4555 acc_val: 0.3181 time: 5.8763s\n",
      "Epoch: 029 loss_train: 1.2819 acc_train: 0.5141 loss_val: 1.1181 acc_val: 0.3647 time: 5.8881s\n",
      "Epoch: 030 loss_train: 1.1059 acc_train: 0.5181 loss_val: 1.0167 acc_val: 0.5873 time: 5.9164s\n",
      "Epoch: 031 loss_train: 1.2753 acc_train: 0.5127 loss_val: 0.9920 acc_val: 0.6348 time: 5.6728s\n",
      "Epoch: 032 loss_train: 1.1934 acc_train: 0.5126 loss_val: 0.9516 acc_val: 0.6183 time: 5.9652s\n",
      "Epoch: 033 loss_train: 1.0753 acc_train: 0.5137 loss_val: 0.9563 acc_val: 0.5625 time: 5.8504s\n",
      "Epoch: 034 loss_train: 0.9917 acc_train: 0.5152 loss_val: 1.0254 acc_val: 0.5695 time: 5.8663s\n",
      "Epoch: 035 loss_train: 1.0297 acc_train: 0.5164 loss_val: 0.9276 acc_val: 0.6192 time: 5.8365s\n",
      "Epoch: 036 loss_train: 0.9771 acc_train: 0.5157 loss_val: 0.9183 acc_val: 0.6649 time: 5.8298s\n",
      "Epoch: 037 loss_train: 0.9812 acc_train: 0.5162 loss_val: 0.9136 acc_val: 0.6642 time: 5.7426s\n",
      "Epoch: 038 loss_train: 0.9727 acc_train: 0.5218 loss_val: 0.9558 acc_val: 0.6179 time: 5.7900s\n",
      "Epoch: 039 loss_train: 0.9748 acc_train: 0.5206 loss_val: 0.9280 acc_val: 0.6203 time: 5.6590s\n",
      "Epoch: 040 loss_train: 0.9502 acc_train: 0.5212 loss_val: 0.8992 acc_val: 0.6703 time: 6.7293s\n",
      "Epoch: 041 loss_train: 0.9593 acc_train: 0.5241 loss_val: 0.8955 acc_val: 0.6774 time: 6.9720s\n",
      "Epoch: 042 loss_train: 0.9716 acc_train: 0.5226 loss_val: 0.8911 acc_val: 0.6579 time: 5.5341s\n",
      "Epoch: 043 loss_train: 0.9344 acc_train: 0.5240 loss_val: 0.9294 acc_val: 0.6054 time: 6.3467s\n",
      "Epoch: 044 loss_train: 0.9384 acc_train: 0.5243 loss_val: 0.9236 acc_val: 0.6081 time: 6.0465s\n",
      "Epoch: 045 loss_train: 0.9321 acc_train: 0.5262 loss_val: 0.8810 acc_val: 0.6524 time: 5.7545s\n",
      "Epoch: 046 loss_train: 0.9040 acc_train: 0.5261 loss_val: 0.8726 acc_val: 0.6749 time: 5.8280s\n",
      "Epoch: 047 loss_train: 0.9223 acc_train: 0.5241 loss_val: 0.8697 acc_val: 0.6656 time: 6.5865s\n",
      "Epoch: 048 loss_train: 0.9203 acc_train: 0.5273 loss_val: 0.8725 acc_val: 0.6336 time: 7.5178s\n",
      "Epoch: 049 loss_train: 0.8957 acc_train: 0.5254 loss_val: 0.8912 acc_val: 0.5896 time: 6.4158s\n",
      "Epoch: 050 loss_train: 0.8988 acc_train: 0.5262 loss_val: 0.8897 acc_val: 0.5854 time: 6.0921s\n",
      "Optimization Finished!\n",
      "Total time elapsed: 302.7040s\n",
      "\n",
      "Test set results: loss= 0.8855 accuracy= 0.5891\n"
     ]
    }
   ],
   "source": [
    "# Hyperparameters\n",
    "epochs = 50\n",
    "n_hidden_1 = 256\n",
    "n_hidden_2 = 128\n",
    "learning_rate = 0.01\n",
    "dropout_rate = 0.5\n",
    "n_class = 3\n",
    "\n",
    "# Creates the model and specifies the optimizer\n",
    "model = GCN(X.shape[1], n_hidden_1, n_hidden_2, n_class, dropout_rate)\n",
    "optimizer = optim.Adam(model.parameters(), lr=learning_rate)\n",
    "\n",
    "adj = normalise_adjacency(sp.csr_matrix(nx.adjacency_matrix(coAuthorshipGraph))) \n",
    "adj = sparse_to_torch_sparse(adj)\n",
    "\n",
    "\n",
    "def train(epoch):\n",
    "    t = time.time()\n",
    "    model.train()\n",
    "    optimizer.zero_grad()\n",
    "    output,_ = model(X, adj)\n",
    "    loss_train = F.nll_loss(output[new_idx_train], class_labels_train)\n",
    "    acc_train = accuracy_score(torch.argmax(output[new_idx_train], dim=1).detach().cpu().numpy(), class_labels_train.cpu().numpy())\n",
    "    loss_train.backward()\n",
    "    optimizer.step()\n",
    "\n",
    "    \n",
    "    model.eval()\n",
    "    output,_ = model(X, adj)\n",
    "\n",
    "    loss_val = F.nll_loss(output[idx_val], class_labels_validation)\n",
    "    acc_val = accuracy_score(torch.argmax(output[idx_val], dim=1).detach().cpu().numpy(), class_labels_validation.cpu().numpy())\n",
    "    print('Epoch: {:03d}'.format(epoch+1),\n",
    "          'loss_train: {:.4f}'.format(loss_train.item()),\n",
    "          'acc_train: {:.4f}'.format(acc_train),\n",
    "          'loss_val: {:.4f}'.format(loss_val.item()),\n",
    "          'acc_val: {:.4f}'.format(acc_val),\n",
    "          'time: {:.4f}s'.format(time.time() - t))\n",
    "\n",
    "\n",
    "def test():\n",
    "    model.eval()\n",
    "    output, embeddings = model(X, adj)\n",
    "    loss_test = F.nll_loss(output[idx_test], class_labels_test)\n",
    "    acc_test = accuracy_score(torch.argmax(output[idx_test], dim=1).detach().cpu().numpy(), class_labels_test.cpu().numpy())\n",
    "    \n",
    "    print(\"Test set results:\",\n",
    "          \"loss= {:.4f}\".format(loss_test.item()),\n",
    "          \"accuracy= {:.4f}\".format(acc_test))\n",
    "\n",
    "    return embeddings\n",
    "\n",
    "# Train model\n",
    "t_total = time.time()\n",
    "for epoch in range(epochs):\n",
    "    train(epoch)\n",
    "print(\"Optimization Finished!\")\n",
    "print(\"Total time elapsed: {:.4f}s\".format(time.time() - t_total))\n",
    "print()\n",
    "\n",
    "# Testing\n",
    "GCN_embeddings = test()"
   ]
  },
  {
   "cell_type": "code",
   "execution_count": 20,
   "metadata": {},
   "outputs": [],
   "source": [
    "preds = torch.argmax(model(X, adj)[0], dim=1).detach().cpu().numpy()"
   ]
  },
  {
   "cell_type": "code",
   "execution_count": 21,
   "metadata": {
    "scrolled": true
   },
   "outputs": [
    {
     "data": {
      "text/plain": [
       "<matplotlib.axes._subplots.AxesSubplot at 0x7fdd4d220df0>"
      ]
     },
     "execution_count": 21,
     "metadata": {},
     "output_type": "execute_result"
    },
    {
     "data": {
      "image/png": "[encoded data removed]",
      "text/plain": [
       "<Figure size 432x288 with 1 Axes>"
      ]
     },
     "metadata": {
      "needs_background": "light"
     },
     "output_type": "display_data"
    }
   ],
   "source": [
    "pd.Series(preds).value_counts().plot(kind='bar')"
   ]
  },
  {
   "cell_type": "code",
   "execution_count": null,
   "metadata": {},
   "outputs": [],
   "source": []
  }
 ],
 "metadata": {
  "kernelspec": {
   "display_name": "Python 3",
   "language": "python",
   "name": "python3"
  },
  "language_info": {
   "codemirror_mode": {
    "name": "ipython",
    "version": 3
   },
   "file_extension": ".py",
   "mimetype": "text/x-python",
   "name": "python",
   "nbconvert_exporter": "python",
   "pygments_lexer": "ipython3",
   "version": "3.8.3"
  }
 },
 "nbformat": 4,
 "nbformat_minor": 4
}
